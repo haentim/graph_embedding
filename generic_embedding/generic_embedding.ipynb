{
 "cells": [
  {
   "cell_type": "code",
   "execution_count": 1,
   "metadata": {},
   "outputs": [],
   "source": [
    "import numpy as np\n",
    "import torch\n",
    "import pickle as pkl\n",
    "from tqdm import tqdm\n",
    "from generic_model import *\n",
    "from utils import *\n",
    "from matplotlib import pyplot as plt"
   ]
  },
  {
   "cell_type": "code",
   "execution_count": 2,
   "metadata": {},
   "outputs": [
    {
     "data": {
      "text/plain": [
       "'cuda'"
      ]
     },
     "execution_count": 2,
     "metadata": {},
     "output_type": "execute_result"
    }
   ],
   "source": [
    "device = 'cuda' if torch.cuda.is_available() else ('cpu')\n",
    "device"
   ]
  },
  {
   "cell_type": "code",
   "execution_count": 3,
   "metadata": {},
   "outputs": [
    {
     "name": "stdout",
     "output_type": "stream",
     "text": [
      "results/generic_training_results_8_10000_25.pkl\n"
     ]
    },
    {
     "ename": "FileNotFoundError",
     "evalue": "[Errno 2] No such file or directory: 'model_8_10000_25.pt'",
     "output_type": "error",
     "traceback": [
      "\u001b[0;31m---------------------------------------------------------------------------\u001b[0m",
      "\u001b[0;31mFileNotFoundError\u001b[0m                         Traceback (most recent call last)",
      "\u001b[0;32m/tmp/ipykernel_2679937/2148593689.py\u001b[0m in \u001b[0;36m<module>\u001b[0;34m\u001b[0m\n\u001b[1;32m     35\u001b[0m                 \u001b[0;32mwith\u001b[0m \u001b[0mopen\u001b[0m\u001b[0;34m(\u001b[0m\u001b[0mresults_path\u001b[0m\u001b[0;34m,\u001b[0m\u001b[0;34m'rb'\u001b[0m\u001b[0;34m)\u001b[0m \u001b[0;32mas\u001b[0m \u001b[0mf\u001b[0m\u001b[0;34m:\u001b[0m\u001b[0;34m\u001b[0m\u001b[0;34m\u001b[0m\u001b[0m\n\u001b[1;32m     36\u001b[0m                     \u001b[0mresults\u001b[0m\u001b[0;34m,\u001b[0m \u001b[0mtest_data\u001b[0m\u001b[0;34m,\u001b[0m \u001b[0mtest_kernel\u001b[0m \u001b[0;34m=\u001b[0m \u001b[0mpkl\u001b[0m\u001b[0;34m.\u001b[0m\u001b[0mload\u001b[0m\u001b[0;34m(\u001b[0m\u001b[0mf\u001b[0m\u001b[0;34m)\u001b[0m\u001b[0;34m\u001b[0m\u001b[0;34m\u001b[0m\u001b[0m\n\u001b[0;32m---> 37\u001b[0;31m                 \u001b[0mmodel\u001b[0m \u001b[0;34m=\u001b[0m \u001b[0mtorch\u001b[0m\u001b[0;34m.\u001b[0m\u001b[0mload\u001b[0m\u001b[0;34m(\u001b[0m\u001b[0;34mf'model_{dataset_string(dataset,distance,iterated)}{\"\" if supervised else \"_unsupervised\"}.pt'\u001b[0m\u001b[0;34m)\u001b[0m\u001b[0;34m\u001b[0m\u001b[0;34m\u001b[0m\u001b[0m\n\u001b[0m\u001b[1;32m     38\u001b[0m                 \u001b[0mprint\u001b[0m\u001b[0;34m(\u001b[0m\u001b[0;34m'model parameters:'\u001b[0m\u001b[0;34m,\u001b[0m\u001b[0msum\u001b[0m\u001b[0;34m(\u001b[0m\u001b[0mp\u001b[0m\u001b[0;34m.\u001b[0m\u001b[0mnumel\u001b[0m\u001b[0;34m(\u001b[0m\u001b[0;34m)\u001b[0m \u001b[0;32mfor\u001b[0m \u001b[0mp\u001b[0m \u001b[0;32min\u001b[0m \u001b[0mmodel\u001b[0m\u001b[0;34m.\u001b[0m\u001b[0mparameters\u001b[0m\u001b[0;34m(\u001b[0m\u001b[0;34m)\u001b[0m\u001b[0;34m)\u001b[0m\u001b[0;34m)\u001b[0m\u001b[0;34m\u001b[0m\u001b[0;34m\u001b[0m\u001b[0m\n\u001b[1;32m     39\u001b[0m \u001b[0;34m\u001b[0m\u001b[0m\n",
      "\u001b[0;32m~/.local/lib/python3.9/site-packages/torch/serialization.py\u001b[0m in \u001b[0;36mload\u001b[0;34m(f, map_location, pickle_module, weights_only, mmap, **pickle_load_args)\u001b[0m\n\u001b[1;32m    995\u001b[0m         \u001b[0mpickle_load_args\u001b[0m\u001b[0;34m[\u001b[0m\u001b[0;34m'encoding'\u001b[0m\u001b[0;34m]\u001b[0m \u001b[0;34m=\u001b[0m \u001b[0;34m'utf-8'\u001b[0m\u001b[0;34m\u001b[0m\u001b[0;34m\u001b[0m\u001b[0m\n\u001b[1;32m    996\u001b[0m \u001b[0;34m\u001b[0m\u001b[0m\n\u001b[0;32m--> 997\u001b[0;31m     \u001b[0;32mwith\u001b[0m \u001b[0m_open_file_like\u001b[0m\u001b[0;34m(\u001b[0m\u001b[0mf\u001b[0m\u001b[0;34m,\u001b[0m \u001b[0;34m'rb'\u001b[0m\u001b[0;34m)\u001b[0m \u001b[0;32mas\u001b[0m \u001b[0mopened_file\u001b[0m\u001b[0;34m:\u001b[0m\u001b[0;34m\u001b[0m\u001b[0;34m\u001b[0m\u001b[0m\n\u001b[0m\u001b[1;32m    998\u001b[0m         \u001b[0;32mif\u001b[0m \u001b[0m_is_zipfile\u001b[0m\u001b[0;34m(\u001b[0m\u001b[0mopened_file\u001b[0m\u001b[0;34m)\u001b[0m\u001b[0;34m:\u001b[0m\u001b[0;34m\u001b[0m\u001b[0;34m\u001b[0m\u001b[0m\n\u001b[1;32m    999\u001b[0m             \u001b[0;31m# The zipfile reader is going to advance the current file position.\u001b[0m\u001b[0;34m\u001b[0m\u001b[0;34m\u001b[0m\u001b[0m\n",
      "\u001b[0;32m~/.local/lib/python3.9/site-packages/torch/serialization.py\u001b[0m in \u001b[0;36m_open_file_like\u001b[0;34m(name_or_buffer, mode)\u001b[0m\n\u001b[1;32m    442\u001b[0m \u001b[0;32mdef\u001b[0m \u001b[0m_open_file_like\u001b[0m\u001b[0;34m(\u001b[0m\u001b[0mname_or_buffer\u001b[0m\u001b[0;34m,\u001b[0m \u001b[0mmode\u001b[0m\u001b[0;34m)\u001b[0m\u001b[0;34m:\u001b[0m\u001b[0;34m\u001b[0m\u001b[0;34m\u001b[0m\u001b[0m\n\u001b[1;32m    443\u001b[0m     \u001b[0;32mif\u001b[0m \u001b[0m_is_path\u001b[0m\u001b[0;34m(\u001b[0m\u001b[0mname_or_buffer\u001b[0m\u001b[0;34m)\u001b[0m\u001b[0;34m:\u001b[0m\u001b[0;34m\u001b[0m\u001b[0;34m\u001b[0m\u001b[0m\n\u001b[0;32m--> 444\u001b[0;31m         \u001b[0;32mreturn\u001b[0m \u001b[0m_open_file\u001b[0m\u001b[0;34m(\u001b[0m\u001b[0mname_or_buffer\u001b[0m\u001b[0;34m,\u001b[0m \u001b[0mmode\u001b[0m\u001b[0;34m)\u001b[0m\u001b[0;34m\u001b[0m\u001b[0;34m\u001b[0m\u001b[0m\n\u001b[0m\u001b[1;32m    445\u001b[0m     \u001b[0;32melse\u001b[0m\u001b[0;34m:\u001b[0m\u001b[0;34m\u001b[0m\u001b[0;34m\u001b[0m\u001b[0m\n\u001b[1;32m    446\u001b[0m         \u001b[0;32mif\u001b[0m \u001b[0;34m'w'\u001b[0m \u001b[0;32min\u001b[0m \u001b[0mmode\u001b[0m\u001b[0;34m:\u001b[0m\u001b[0;34m\u001b[0m\u001b[0;34m\u001b[0m\u001b[0m\n",
      "\u001b[0;32m~/.local/lib/python3.9/site-packages/torch/serialization.py\u001b[0m in \u001b[0;36m__init__\u001b[0;34m(self, name, mode)\u001b[0m\n\u001b[1;32m    423\u001b[0m \u001b[0;32mclass\u001b[0m \u001b[0m_open_file\u001b[0m\u001b[0;34m(\u001b[0m\u001b[0m_opener\u001b[0m\u001b[0;34m)\u001b[0m\u001b[0;34m:\u001b[0m\u001b[0;34m\u001b[0m\u001b[0;34m\u001b[0m\u001b[0m\n\u001b[1;32m    424\u001b[0m     \u001b[0;32mdef\u001b[0m \u001b[0m__init__\u001b[0m\u001b[0;34m(\u001b[0m\u001b[0mself\u001b[0m\u001b[0;34m,\u001b[0m \u001b[0mname\u001b[0m\u001b[0;34m,\u001b[0m \u001b[0mmode\u001b[0m\u001b[0;34m)\u001b[0m\u001b[0;34m:\u001b[0m\u001b[0;34m\u001b[0m\u001b[0;34m\u001b[0m\u001b[0m\n\u001b[0;32m--> 425\u001b[0;31m         \u001b[0msuper\u001b[0m\u001b[0;34m(\u001b[0m\u001b[0;34m)\u001b[0m\u001b[0;34m.\u001b[0m\u001b[0m__init__\u001b[0m\u001b[0;34m(\u001b[0m\u001b[0mopen\u001b[0m\u001b[0;34m(\u001b[0m\u001b[0mname\u001b[0m\u001b[0;34m,\u001b[0m \u001b[0mmode\u001b[0m\u001b[0;34m)\u001b[0m\u001b[0;34m)\u001b[0m\u001b[0;34m\u001b[0m\u001b[0;34m\u001b[0m\u001b[0m\n\u001b[0m\u001b[1;32m    426\u001b[0m \u001b[0;34m\u001b[0m\u001b[0m\n\u001b[1;32m    427\u001b[0m     \u001b[0;32mdef\u001b[0m \u001b[0m__exit__\u001b[0m\u001b[0;34m(\u001b[0m\u001b[0mself\u001b[0m\u001b[0;34m,\u001b[0m \u001b[0;34m*\u001b[0m\u001b[0margs\u001b[0m\u001b[0;34m)\u001b[0m\u001b[0;34m:\u001b[0m\u001b[0;34m\u001b[0m\u001b[0;34m\u001b[0m\u001b[0m\n",
      "\u001b[0;31mFileNotFoundError\u001b[0m: [Errno 2] No such file or directory: 'model_8_10000_25.pt'"
     ]
    }
   ],
   "source": [
    "for dataset in ['8_10000_25','16_10000_15']:\n",
    "    for distance, iterated in [(False,False), (True,False)]:\n",
    "        for supervised in [True, False]:\n",
    "            results_path = f'results/generic_training_results_{dataset_string(dataset,distance,iterated)}{\"\" if supervised else \"_unsupervised\"}.pkl'\n",
    "            print(results_path)\n",
    "            if not os.path.isfile(results_path):\n",
    "                print('loading data')\n",
    "                with open(f'../data/graphs_{dataset}.pkl','rb') as f:\n",
    "                    graphs = pkl.load(f)\n",
    "                with open(f'../data/mercer_{dataset_string(dataset,distance,iterated)}.pkl','rb') as f:\n",
    "                    mercer_pos,mercer_neg = pkl.load(f)\n",
    "                with open(f'../data/{\"distance\" if distance else \"kernel\"}_matrix_{dataset}.pkl','rb') as f:\n",
    "                    kernel_matrix = pkl.load(f)\n",
    "                \n",
    "                print('preparing data')\n",
    "                targets = np.concatenate([mercer_pos,mercer_neg],axis=-1)\n",
    "                targets = torch.tensor(targets.squeeze(1),dtype=torch.float32).to(device)\n",
    "                data = torch.tensor(np.stack([np.asarray(graph.todense()) for graph in graphs],axis=0),dtype=torch.float32).to(device)\n",
    "                kernel_matrix = torch.tensor(kernel_matrix,dtype=torch.float32).to(device)\n",
    "                print('initializing model')\n",
    "                model = GenericModel(size=graphs[0].shape[0], embedding_size=targets.shape[1],device=device)\n",
    "                print('model parameters:',sum(p.numel() for p in model.parameters()))\n",
    "                # model = model.to(device)\n",
    "                # data = model.prepare_data(data)\n",
    "                if supervised:\n",
    "                    results, test_data, test_kernel = fit_supervised(model,data,targets,kernel_matrix,mercer_pos.shape[-1],return_test=True)\n",
    "                else:\n",
    "                    results, test_data, test_kernel  = fit_unsupervised(model,data,kernel_matrix,return_test=True)\n",
    "                with open(results_path,'wb') as f:\n",
    "                    pkl.dump((results, test_data, test_kernel), f)\n",
    "                torch.save(model,f'models/model_{dataset_string(dataset,distance,iterated)}{\"\" if supervised else \"_unsupervised\"}.pt')\n",
    "            else:\n",
    "                with open(f'../data/mercer_{dataset_string(dataset,distance,iterated)}.pkl','rb') as f:\n",
    "                    mercer_pos,mercer_neg = pkl.load(f)\n",
    "                with open(results_path,'rb') as f:\n",
    "                    results, test_data, test_kernel = pkl.load(f)\n",
    "                model = torch.load(f'models/model_{dataset_string(dataset,distance,iterated)}{\"\" if supervised else \"_unsupervised\"}.pt')\n",
    "                print('model parameters:',sum(p.numel() for p in model.parameters()))\n",
    "                \n",
    "            epoch, loss, test_loss, r_squared = zip(*results)\n",
    "            \n",
    "            plt.figure(figsize=(12,8))\n",
    "            plt.rcParams.update({'font.size': 13})\n",
    "            \n",
    "            cmap = plt.cm.magma  # define the colormap\n",
    "            cmaplist = [cmap(i) for i in range(cmap.N)] # extract all colors from the colormap\n",
    "            \n",
    "            rho = \"$\\\\delta$\"\n",
    "            plt.title(f'Loss per epoch - generic model, {\"\" if supervised else \"un\"}supervised, for {rho if distance else \"$K$\"} on {DATASET_MAP[dataset]}')\n",
    "            plt.gca().set_ylabel('loss')\n",
    "            plt.gca().set_xlabel(f'epoch')\n",
    "            \n",
    "            plt.plot(epoch,loss,label='loss', lw=3, color=cmaplist[64])\n",
    "            plt.plot(epoch,test_loss,label='test loss',lw=3,color=cmaplist[196])\n",
    "            \n",
    "            plt.tight_layout()\n",
    "            plt.legend()\n",
    "            plt.gca().set_ylim(bottom=.5*min(min(loss),min(test_loss)),top=1.25*loss[100])\n",
    "            plt.savefig(f'../plots/loss_{dataset_string(dataset,distance,iterated)}_{\"\" if supervised else \"un\"}supervised.png',format='png',dpi=300)\n",
    "            # plt.show()\n",
    "            plt.close()\n",
    "            \n",
    "            \n",
    "            plt.figure(figsize=(12,8))\n",
    "            plt.rcParams.update({'font.size': 13})\n",
    "            \n",
    "            cmap = plt.cm.magma  # define the colormap\n",
    "            cmaplist = [cmap(i) for i in range(cmap.N)] # extract all colors from the colormap\n",
    "            \n",
    "            rho = \"$\\\\delta$\"\n",
    "            plt.title(f'Test sample $R^2$ per epoch - generic model, {\"\" if supervised else \"un\"}supervised, for {rho if distance else \"$K$\"} on {DATASET_MAP[dataset]}')\n",
    "            plt.gca().set_ylabel('$R^2$')\n",
    "            plt.gca().set_xlabel(f'epoch')\n",
    "            \n",
    "            plt.plot(epoch,r_squared,label='$R^2$',lw=3, color=cmaplist[128])\n",
    "            plt.tight_layout()\n",
    "            plt.legend()\n",
    "            plt.gca().set_ylim(bottom=max(0,r_squared[999]-.1),top=1.)\n",
    "            plt.savefig(f'../plots/r_squared_{dataset_string(dataset,distance,iterated)}_{\"\" if supervised else \"un\"}supervised.png',format='png',dpi=300)\n",
    "            # plt.show()\n",
    "            plt.close()\n",
    "            \n",
    "            predictions = model(test_data).to('cpu')\n",
    "            n_positive = mercer_pos.shape[-1] if supervised else predictions.shape[-1]//2\n",
    "            print(f'{n_positive=}')\n",
    "            predictions_pos, predictions_neg = predictions[:,:n_positive], predictions[:,n_positive:]\n",
    "            predicted_kernel = predictions_pos @ predictions_pos.T - predictions_neg @ predictions_neg.T\n",
    "            \n",
    "            indices = torch.triu_indices(*predicted_kernel.shape, offset=1)\n",
    "            subsample = np.random.choice(np.arange(len(indices[0])), 10_000,replace=False)\n",
    "            indices = indices[:,subsample]\n",
    "            predicted_kernel_vals = predicted_kernel[indices[0],indices[1]]\n",
    "            kernel_vals = test_kernel.to('cpu')[indices[0],indices[1]]\n",
    "            \n",
    "            plt.figure(figsize=(12,8))\n",
    "            plt.rcParams.update({'font.size': 13})\n",
    "            \n",
    "            cmap = plt.cm.magma  # define the colormap\n",
    "            cmaplist = [cmap(i) for i in range(cmap.N)] # extract all colors from the colormap\n",
    "            \n",
    "            plt.title(f'Predictions vs. true kernel values for the test sample - generic model, {\"\" if supervised else \"un\"}supervised, for {rho if distance else \"$K$\"} on {DATASET_MAP[dataset]}')\n",
    "            plt.gca().set_ylabel('predicted')\n",
    "            plt.gca().set_xlabel(f'true kernel value')\n",
    "            \n",
    "            plt.scatter(kernel_vals.detach().numpy(),predicted_kernel_vals.detach().numpy(),s=2,alpha=.2,color=cmaplist[192])\n",
    "            plt.plot([0,kernel_vals.detach().numpy().max()],[0,kernel_vals.detach().numpy().max()],color=cmaplist[0])\n",
    "            plt.tight_layout()\n",
    "            \n",
    "            plt.savefig(f'../plots/scatterplot_{dataset_string(dataset,distance,iterated)}_{\"\" if supervised else \"un\"}supervised.png',format='png',dpi=300)\n",
    "            # plt.show()\n",
    "            plt.close()\n",
    "            \n",
    "            print('min test loss:', min(test_loss))\n",
    "            print('max R^2:', max(r_squared))\n",
    "            "
   ]
  },
  {
   "cell_type": "code",
   "execution_count": null,
   "metadata": {},
   "outputs": [],
   "source": []
  },
  {
   "cell_type": "code",
   "execution_count": null,
   "metadata": {},
   "outputs": [],
   "source": []
  }
 ],
 "metadata": {
  "kernelspec": {
   "display_name": "base",
   "language": "python",
   "name": "python3"
  },
  "language_info": {
   "codemirror_mode": {
    "name": "ipython",
    "version": 3
   },
   "file_extension": ".py",
   "mimetype": "text/x-python",
   "name": "python",
   "nbconvert_exporter": "python",
   "pygments_lexer": "ipython3",
   "version": "3.9.7"
  }
 },
 "nbformat": 4,
 "nbformat_minor": 2
}
