{
 "cells": [
  {
   "cell_type": "code",
   "execution_count": 1,
   "metadata": {},
   "outputs": [],
   "source": [
    "import numpy as np\n",
    "import torch\n",
    "import pickle as pkl\n",
    "from tqdm import tqdm\n",
    "from convolutional_model import *\n",
    "from utils import *\n",
    "from matplotlib import pyplot as plt"
   ]
  },
  {
   "cell_type": "code",
   "execution_count": 2,
   "metadata": {},
   "outputs": [
    {
     "data": {
      "text/plain": [
       "'cuda'"
      ]
     },
     "execution_count": 2,
     "metadata": {},
     "output_type": "execute_result"
    }
   ],
   "source": [
    "device = 'cuda' if torch.cuda.is_available() else ('cpu')\n",
    "device"
   ]
  },
  {
   "cell_type": "code",
   "execution_count": 3,
   "metadata": {},
   "outputs": [
    {
     "name": "stdout",
     "output_type": "stream",
     "text": [
      "results/convolutional_training_results_8_10000_25.pkl\n",
      "loading data\n",
      "preparing data\n",
      "torch.Size([10000, 256])\n",
      "initializing model\n",
      "model parameters: 797312\n",
      "kernel approximation: 0.9877597093582153\n"
     ]
    },
    {
     "name": "stderr",
     "output_type": "stream",
     "text": [
      "100%|██████████| 10000/10000 [1:01:22<00:00,  2.72it/s, loss=0.00568, test_loss=0.00746, test_R^2=0.896]\n"
     ]
    },
    {
     "name": "stdout",
     "output_type": "stream",
     "text": [
      "n_positive=160\n",
      "min test loss: 0.0071996827609837055\n",
      "max R^2: 0.9024989008903503\n",
      "results/convolutional_training_results_8_10000_25_unsupervised.pkl\n",
      "loading data\n",
      "preparing data\n",
      "torch.Size([10000, 256])\n",
      "initializing model\n",
      "model parameters: 797312\n"
     ]
    },
    {
     "name": "stderr",
     "output_type": "stream",
     "text": [
      "100%|██████████| 10000/10000 [1:38:59<00:00,  1.68it/s, loss=0.115, test_loss=0.149, test_R^2=0.892]\n"
     ]
    },
    {
     "name": "stdout",
     "output_type": "stream",
     "text": [
      "n_positive=128\n",
      "min test loss: 0.14497779309749603\n",
      "max R^2: 0.8946293592453003\n",
      "results/convolutional_training_results_8_10000_25_distance.pkl\n",
      "loading data\n",
      "preparing data\n",
      "torch.Size([10000, 256])\n",
      "initializing model\n",
      "model parameters: 797312\n",
      "kernel approximation: 0.9563431143760681\n"
     ]
    },
    {
     "name": "stderr",
     "output_type": "stream",
     "text": [
      "100%|██████████| 10000/10000 [59:08<00:00,  2.82it/s, loss=0.00332, test_loss=0.00449, test_R^2=0.671] \n"
     ]
    },
    {
     "name": "stdout",
     "output_type": "stream",
     "text": [
      "n_positive=63\n",
      "min test loss: 0.004292813595384359\n",
      "max R^2: 0.6930884122848511\n",
      "results/convolutional_training_results_8_10000_25_distance_unsupervised.pkl\n",
      "loading data\n",
      "preparing data\n",
      "torch.Size([10000, 256])\n",
      "initializing model\n",
      "model parameters: 797312\n"
     ]
    },
    {
     "name": "stderr",
     "output_type": "stream",
     "text": [
      "100%|██████████| 10000/10000 [1:34:55<00:00,  1.76it/s, loss=0.0292, test_loss=0.0492, test_R^2=0.599]\n"
     ]
    },
    {
     "name": "stdout",
     "output_type": "stream",
     "text": [
      "n_positive=128\n",
      "min test loss: 0.04160373657941818\n",
      "max R^2: 0.6629785299301147\n",
      "results/convolutional_training_results_16_10000_15.pkl\n",
      "loading data\n",
      "preparing data\n",
      "torch.Size([10000, 256])\n",
      "initializing model\n",
      "model parameters: 805888\n",
      "kernel approximation: 0.8816515207290649\n"
     ]
    },
    {
     "name": "stderr",
     "output_type": "stream",
     "text": [
      "100%|██████████| 10000/10000 [54:17<00:00,  3.07it/s, loss=0.0148, test_loss=0.0197, test_R^2=0.785]\n"
     ]
    },
    {
     "name": "stdout",
     "output_type": "stream",
     "text": [
      "n_positive=213\n",
      "min test loss: 0.017969965934753418\n",
      "max R^2: 0.7903039455413818\n",
      "results/convolutional_training_results_16_10000_15_unsupervised.pkl\n",
      "loading data\n",
      "preparing data\n",
      "torch.Size([10000, 256])\n",
      "initializing model\n",
      "model parameters: 805888\n"
     ]
    },
    {
     "name": "stderr",
     "output_type": "stream",
     "text": [
      "100%|██████████| 10000/10000 [1:29:40<00:00,  1.86it/s, loss=0.523, test_loss=0.579, test_R^2=0.799]\n"
     ]
    },
    {
     "name": "stdout",
     "output_type": "stream",
     "text": [
      "n_positive=128\n",
      "min test loss: 0.5775573253631592\n",
      "max R^2: 0.7991635799407959\n",
      "results/convolutional_training_results_16_10000_15_distance.pkl\n",
      "loading data\n",
      "preparing data\n",
      "torch.Size([10000, 256])\n",
      "initializing model\n",
      "model parameters: 805888\n",
      "kernel approximation: 0.7516463994979858\n"
     ]
    },
    {
     "name": "stderr",
     "output_type": "stream",
     "text": [
      "100%|██████████| 10000/10000 [51:45<00:00,  3.22it/s, loss=0.00522, test_loss=0.00709, test_R^2=0.541]\n"
     ]
    },
    {
     "name": "stdout",
     "output_type": "stream",
     "text": [
      "n_positive=24\n",
      "min test loss: 0.006339981686323881\n",
      "max R^2: 0.5636906623840332\n",
      "results/convolutional_training_results_16_10000_15_distance_unsupervised.pkl\n",
      "loading data\n",
      "preparing data\n",
      "torch.Size([10000, 256])\n",
      "initializing model\n",
      "model parameters: 805888\n"
     ]
    },
    {
     "name": "stderr",
     "output_type": "stream",
     "text": [
      "100%|██████████| 10000/10000 [1:29:32<00:00,  1.86it/s, loss=0.063, test_loss=0.0756, test_R^2=0.53] \n"
     ]
    },
    {
     "name": "stdout",
     "output_type": "stream",
     "text": [
      "n_positive=128\n",
      "min test loss: 0.0732349306344986\n",
      "max R^2: 0.5466824769973755\n"
     ]
    }
   ],
   "source": [
    "for dataset in ['8_10000_25','16_10000_15']:\n",
    "    for distance, iterated in [(False,False), (True,False)]:\n",
    "        for supervised in [True, False]:\n",
    "            results_path = f'results/convolutional_training_results_{dataset_string(dataset,distance,iterated)}{\"\" if supervised else \"_unsupervised\"}.pkl'\n",
    "            print(results_path)\n",
    "            if not os.path.isfile(results_path):\n",
    "                print('loading data')\n",
    "                with open(f'../data/graphs_{dataset}.pkl','rb') as f:\n",
    "                    graphs = pkl.load(f)\n",
    "                with open(f'../data/mercer_{dataset_string(dataset,distance,iterated)}.pkl','rb') as f:\n",
    "                    mercer_pos,mercer_neg = pkl.load(f)\n",
    "                with open(f'../data/{\"distance\" if distance else \"kernel\"}_matrix_{dataset}.pkl','rb') as f:\n",
    "                    kernel_matrix = pkl.load(f)\n",
    "                \n",
    "                print('preparing data')\n",
    "                targets = np.concatenate([mercer_pos,mercer_neg],axis=-1)\n",
    "                targets = torch.tensor(targets.squeeze(1),dtype=torch.float32).to(device)\n",
    "                print(targets.shape)\n",
    "                data = torch.tensor(np.stack([laplacian_from_adjacency(np.asarray(graph.todense())) for graph in graphs],axis=0),dtype=torch.float32).to(device)\n",
    "                kernel_matrix = torch.tensor(kernel_matrix,dtype=torch.float32).to(device)\n",
    "                print('initializing model')\n",
    "                model = ConvolutionalModel(graph_size=graphs[0].shape[0],embedding_size=targets.shape[1], device=device)\n",
    "                print('model parameters:',sum(p.numel() for p in model.parameters()))\n",
    "                data = [data, model.prepare_data(data)]\n",
    "                if supervised:\n",
    "                    results, test_data, test_kernel = fit_supervised(model,data,targets,kernel_matrix,mercer_pos.shape[-1],return_test=True)\n",
    "                else:\n",
    "                    results, test_data, test_kernel = fit_unsupervised(model,data,kernel_matrix,return_test=True)\n",
    "                with open(results_path,'wb') as f:\n",
    "                    pkl.dump((results,test_data,test_kernel),f)\n",
    "                torch.save(model,f'models/model_{dataset_string(dataset,distance,iterated)}{\"\" if supervised else \"_unsupervised\"}.pt')\n",
    "            else:\n",
    "                with open(f'../data/mercer_{dataset_string(dataset,distance,iterated)}.pkl','rb') as f:\n",
    "                    mercer_pos,mercer_neg = pkl.load(f)\n",
    "                with open(results_path,'rb') as f:\n",
    "                    results, test_data, test_kernel = pkl.load(f)\n",
    "                model = torch.load(f'models/model_{dataset_string(dataset,distance,iterated)}{\"\" if supervised else \"_unsupervised\"}.pt')\n",
    "                print('model parameters:',sum(p.numel() for p in model.parameters()))\n",
    "            \n",
    "            epoch, loss, test_loss, r_squared = zip(*results)\n",
    "            \n",
    "            plt.figure(figsize=(12,8))\n",
    "            plt.rcParams.update({'font.size': 13})\n",
    "            \n",
    "            cmap = plt.cm.magma  # define the colormap\n",
    "            cmaplist = [cmap(i) for i in range(cmap.N)] # extract all colors from the colormap\n",
    "            \n",
    "            rho = \"$\\\\delta$\"\n",
    "            plt.title(f'Loss per epoch - convolutional model, {\"\" if supervised else \"un\"}supervised, for {rho if distance else \"$K$\"} on {DATASET_MAP[dataset]}')\n",
    "            plt.gca().set_ylabel('loss')\n",
    "            plt.gca().set_xlabel(f'epoch')\n",
    "            \n",
    "            plt.plot(epoch,loss,label='loss', lw=3, color=cmaplist[64])\n",
    "            plt.plot(epoch,test_loss,label='test loss',lw=3,color=cmaplist[196])\n",
    "            \n",
    "            plt.tight_layout()\n",
    "            plt.legend()\n",
    "            plt.gca().set_ylim(bottom=.5*min(min(loss),min(test_loss)),top=1.25*loss[100])\n",
    "            plt.savefig(f'../plots/conv_loss_{dataset_string(dataset,distance,iterated)}_{\"\" if supervised else \"un\"}supervised.png',format='png',dpi=300)\n",
    "            # plt.show()\n",
    "            plt.close()\n",
    "            \n",
    "            \n",
    "            plt.figure(figsize=(12,8))\n",
    "            plt.rcParams.update({'font.size': 13})\n",
    "            \n",
    "            cmap = plt.cm.magma  # define the colormap\n",
    "            cmaplist = [cmap(i) for i in range(cmap.N)] # extract all colors from the colormap\n",
    "            \n",
    "            rho = \"$\\\\delta$\"\n",
    "            plt.title(f'Test sample $R^2$ per epoch - convolutional model, {\"\" if supervised else \"un\"}supervised, for {rho if distance else \"$K$\"} on {DATASET_MAP[dataset]}')\n",
    "            plt.gca().set_ylabel('$R^2$')\n",
    "            plt.gca().set_xlabel(f'epoch')\n",
    "            \n",
    "            plt.plot(epoch,r_squared,label='$R^2$',lw=3, color=cmaplist[128])\n",
    "            plt.tight_layout()\n",
    "            plt.legend()\n",
    "            plt.gca().set_ylim(bottom=max(0,r_squared[999]-.1),top=1.)\n",
    "            plt.savefig(f'../plots/conv_r_squared_{dataset_string(dataset,distance,iterated)}_{\"\" if supervised else \"un\"}supervised.png',format='png',dpi=300)\n",
    "            # plt.show()\n",
    "            plt.close()\n",
    "            \n",
    "            predictions = model(*test_data).to('cpu')\n",
    "            n_positive = mercer_pos.shape[-1] if supervised else predictions.shape[-1]//2\n",
    "            print(f'{n_positive=}')\n",
    "            predictions_pos, predictions_neg = predictions[:,:n_positive], predictions[:,n_positive:]\n",
    "            predicted_kernel = predictions_pos @ predictions_pos.T - predictions_neg @ predictions_neg.T\n",
    "            \n",
    "            indices = torch.triu_indices(*predicted_kernel.shape, offset=1)\n",
    "            subsample = np.random.choice(np.arange(len(indices[0])), 10_000,replace=False)\n",
    "            indices = indices[:,subsample]\n",
    "            predicted_kernel_vals = predicted_kernel[indices[0],indices[1]]\n",
    "            kernel_vals = test_kernel.to('cpu')[indices[0],indices[1]]\n",
    "            \n",
    "            plt.figure(figsize=(12,8))\n",
    "            plt.rcParams.update({'font.size': 13})\n",
    "            \n",
    "            cmap = plt.cm.magma  # define the colormap\n",
    "            cmaplist = [cmap(i) for i in range(cmap.N)] # extract all colors from the colormap\n",
    "            \n",
    "            plt.title(f'Predictions vs. true kernel values for the test sample - convolutional model, {\"\" if supervised else \"un\"}supervised, for {rho if distance else \"$K$\"} on {DATASET_MAP[dataset]}')\n",
    "            plt.gca().set_ylabel('predicted')\n",
    "            plt.gca().set_xlabel(f'true kernel value')\n",
    "            \n",
    "            plt.scatter(kernel_vals.detach().numpy(),predicted_kernel_vals.detach().numpy(),s=2,alpha=.2,color=cmaplist[192])\n",
    "            plt.plot([0,kernel_vals.detach().numpy().max()],[0,kernel_vals.detach().numpy().max()],color=cmaplist[0])\n",
    "            plt.tight_layout()\n",
    "            \n",
    "            plt.savefig(f'../plots/conv_scatterplot_{dataset_string(dataset,distance,iterated)}_{\"\" if supervised else \"un\"}supervised.png',format='png',dpi=300)\n",
    "            # plt.show()\n",
    "            plt.close()\n",
    "            \n",
    "            print('min test loss:', min(test_loss))\n",
    "            print('max R^2:', max(r_squared))\n",
    "            \n",
    "            \n",
    "            "
   ]
  },
  {
   "cell_type": "code",
   "execution_count": null,
   "metadata": {},
   "outputs": [],
   "source": []
  },
  {
   "cell_type": "markdown",
   "metadata": {},
   "source": []
  },
  {
   "cell_type": "code",
   "execution_count": null,
   "metadata": {},
   "outputs": [],
   "source": []
  }
 ],
 "metadata": {
  "kernelspec": {
   "display_name": "base",
   "language": "python",
   "name": "python3"
  },
  "language_info": {
   "codemirror_mode": {
    "name": "ipython",
    "version": 3
   },
   "file_extension": ".py",
   "mimetype": "text/x-python",
   "name": "python",
   "nbconvert_exporter": "python",
   "pygments_lexer": "ipython3",
   "version": "3.9.7"
  }
 },
 "nbformat": 4,
 "nbformat_minor": 2
}
