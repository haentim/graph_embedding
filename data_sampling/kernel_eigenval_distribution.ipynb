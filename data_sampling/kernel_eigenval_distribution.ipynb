{
 "cells": [
  {
   "cell_type": "code",
   "execution_count": 1,
   "metadata": {},
   "outputs": [],
   "source": [
    "import numpy as np\n",
    "import scipy.linalg\n",
    "import pickle as pkl\n",
    "import matplotlib.pyplot as plt\n",
    "\n",
    "from utils import *\n",
    "import os"
   ]
  },
  {
   "cell_type": "code",
   "execution_count": 2,
   "metadata": {},
   "outputs": [],
   "source": [
    "def analyse_spectrum(dataset,distance=False,iterated=False, sample_sizes = [128], x_scale_log=True):\n",
    "    kernel = load_kernel_matrix(dataset,distance,iterated)\n",
    "        \n",
    "    plt.figure(figsize=(12,8))\n",
    "    plt.gca().set_yscale('log')\n",
    "    if x_scale_log:\n",
    "        plt.gca().set_xscale('log')\n",
    "    plt.ylim(10**-8,10**1)\n",
    "    plt.rcParams.update({'font.size': 14})\n",
    "    \n",
    "    plt.title('Eigenvalue distribution by number of landmark points, ')\n",
    "    \n",
    "    if distance:\n",
    "        plt.title(f'Eigenvalue distribution by number of landmark points, for $\\\\delta$ on {DATASET_MAP[dataset]}')\n",
    "    else:\n",
    "        plt.title(f'Eigenvalue distribution by number of landmark points, for $K{\"^{(2)}\" if iterated else \"\"}$ on {DATASET_MAP[dataset]}')\n",
    "        \n",
    "    \n",
    "    plt.gca().set_ylabel('absolute value of eigenvalues (log-scale)')\n",
    "    plt.gca().set_xlabel(f'eigenvalue index{\" (log-scale)\" if x_scale_log else \"\"}')\n",
    "    \n",
    "    cmap = plt.cm.magma  # define the colormap\n",
    "    cmaplist = [cmap(i) for i in range(cmap.N)] # extract all colors from the colormap\n",
    "    \n",
    "    for i,sample_size in enumerate(sample_sizes):\n",
    "        print(f'{sample_size=}')\n",
    "        subkernel = kernel[:sample_size,:sample_size]\n",
    "        eigenvals, eigenvecs = scipy.linalg.eigh(1/sample_size * subkernel)\n",
    "        order = np.flip(np.argsort(np.abs(eigenvals)))\n",
    "        eigenvals = eigenvals[order]\n",
    "        eigenvecs = eigenvecs[:,order]\n",
    "        plot_x = np.arange(kernel.shape[0])+1\n",
    "        plot_y = np.zeros(kernel.shape[0])\n",
    "        for ix,eigenval in enumerate(eigenvals):\n",
    "            plot_y[ix] = np.abs(eigenval)\n",
    "            \n",
    "        plt.scatter(plot_x,plot_y,label=f'{sample_size}',s=10,color=cmaplist[int(.8*(i+1)/len(sample_sizes)*(len(cmaplist)-1))])\n",
    "    \n",
    "    plt.xticks([1,2,4,8,16,32,64,128,256,512,1024,2048,4096,8192],[1,2,4,8,16,32,64,128,256,512,1024,2048,4096,8192])\n",
    "    plt.minorticks_off()\n",
    "    plt.legend(title='# landmarks')\n",
    "    plt.tight_layout()\n",
    "    plt.savefig(f'../plots/eigenvalue_distribution_{dataset_string(dataset,distance,iterated)}.png',format='png',dpi=300)\n",
    "    # plt.show()\n",
    "    plt.close()\n",
    "    "
   ]
  },
  {
   "cell_type": "code",
   "execution_count": 3,
   "metadata": {},
   "outputs": [
    {
     "name": "stdout",
     "output_type": "stream",
     "text": [
      "8_10000_25\n",
      "sample_size=128\n",
      "sample_size=181\n",
      "sample_size=256\n",
      "sample_size=362\n",
      "sample_size=512\n",
      "sample_size=724\n",
      "sample_size=1024\n",
      "sample_size=1448\n",
      "sample_size=2048\n",
      "sample_size=2896\n",
      "sample_size=4096\n",
      "sample_size=5793\n",
      "sample_size=8192\n",
      "\n",
      "8_10000_25\n",
      "sample_size=128\n",
      "sample_size=181\n",
      "sample_size=256\n",
      "sample_size=362\n",
      "sample_size=512\n",
      "sample_size=724\n",
      "sample_size=1024\n",
      "sample_size=1448\n",
      "sample_size=2048\n",
      "sample_size=2896\n",
      "sample_size=4096\n",
      "sample_size=5793\n",
      "sample_size=8192\n",
      "\n",
      "16_10000_15\n",
      "sample_size=128\n",
      "sample_size=181\n",
      "sample_size=256\n",
      "sample_size=362\n",
      "sample_size=512\n",
      "sample_size=724\n",
      "sample_size=1024\n",
      "sample_size=1448\n",
      "sample_size=2048\n",
      "sample_size=2896\n",
      "sample_size=4096\n",
      "sample_size=5793\n",
      "sample_size=8192\n"
     ]
    }
   ],
   "source": [
    "for dataset in ['8_10000_25','16_10000_15']:\n",
    "    for distance, iterated in [(False,False), (True,False)]:\n",
    "        print(dataset)\n",
    "        analyse_spectrum(dataset,distance,iterated,[128,181,256,362,512,724,1024,1448,2048,2896,4096,5793,8192], x_scale_log=True) \n",
    "        print()"
   ]
  }
 ],
 "metadata": {
  "kernelspec": {
   "display_name": "base",
   "language": "python",
   "name": "python3"
  },
  "language_info": {
   "codemirror_mode": {
    "name": "ipython",
    "version": 3
   },
   "file_extension": ".py",
   "mimetype": "text/x-python",
   "name": "python",
   "nbconvert_exporter": "python",
   "pygments_lexer": "ipython3",
   "version": "3.9.7"
  }
 },
 "nbformat": 4,
 "nbformat_minor": 2
}
